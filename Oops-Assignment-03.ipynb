{
 "cells": [
  {
   "cell_type": "markdown",
   "id": "af4ee383",
   "metadata": {},
   "source": [
    "### Question no :- 01"
   ]
  },
  {
   "cell_type": "markdown",
   "id": "958f651c",
   "metadata": {},
   "source": [
    "In object-oriented programming (OOP), abstraction is a fundamental concept that allows us to represent complex systems in a simplified manner by focusing on essential features and ignoring unnecessary details. It involves creating abstract classes or interfaces that define a common structure and behavior for a group of related objects."
   ]
  },
  {
   "cell_type": "code",
   "execution_count": 5,
   "id": "68c3608c",
   "metadata": {},
   "outputs": [],
   "source": [
    "# Example\n",
    "\n",
    "import abc\n",
    "\n",
    "class branch:\n",
    "    \n",
    "    @abc.abstractmethod\n",
    "    def student_detial(self):\n",
    "        pass\n",
    "    \n",
    "    @abc.abstractmethod\n",
    "    def student_mark(self):\n",
    "        pass\n",
    "    \n",
    "    @abc.abstractmethod\n",
    "    def student_assi(self):\n",
    "        pass\n",
    "    \n",
    " \n",
    "    "
   ]
  },
  {
   "cell_type": "code",
   "execution_count": 6,
   "id": "fc230294",
   "metadata": {},
   "outputs": [],
   "source": [
    "class mechanical(branch):\n",
    "    \n",
    "    def student_detial(self):\n",
    "        return 'this method is return the student_detial'\n",
    "    \n",
    "    def student_assi(self):\n",
    "        return \"student assignment\""
   ]
  },
  {
   "cell_type": "code",
   "execution_count": 8,
   "id": "4d2c2693",
   "metadata": {},
   "outputs": [],
   "source": [
    "mechanical_obj = mechanical()"
   ]
  },
  {
   "cell_type": "code",
   "execution_count": 10,
   "id": "f71091e3",
   "metadata": {},
   "outputs": [
    {
     "data": {
      "text/plain": [
       "'student assignment'"
      ]
     },
     "execution_count": 10,
     "metadata": {},
     "output_type": "execute_result"
    }
   ],
   "source": [
    "mechanical_obj.student_assi()"
   ]
  },
  {
   "cell_type": "markdown",
   "id": "365aee16",
   "metadata": {},
   "source": [
    "### Question no :- 02"
   ]
  },
  {
   "cell_type": "markdown",
   "id": "f3ad2c98",
   "metadata": {},
   "source": [
    "Abstraction is a concept that focuses on representing complex real-world entities as simplified models within your software. It involves capturing the essential properties and behaviors of an object while hiding the irrelevant details. Abstraction allows you to work with generalized representations, focusing on what is essential for your program's functionality, and hiding the implementation details that are not relevant at a particular level of abstraction."
   ]
  },
  {
   "cell_type": "markdown",
   "id": "21985048",
   "metadata": {},
   "source": [
    "Encapsulation, on the other hand, is a mechanism that bundles the data and methods together within a class and restricts access to the internal workings of an object. It is a way of achieving data hiding and protecting the internal state of an object from direct manipulation. Encapsulation ensures that the object's internal state can only be accessed and modified through well-defined methods, providing control over how the object is used and preventing unauthorized access."
   ]
  },
  {
   "cell_type": "code",
   "execution_count": 15,
   "id": "e82c6ea9",
   "metadata": {},
   "outputs": [],
   "source": [
    "# Example \n",
    "\n",
    "class car:\n",
    "    \n",
    "    def __init__(self, model, color):\n",
    "        self.model = model\n",
    "        self.color = color\n",
    "        self._speed = 0\n",
    "        \n",
    "    def speed(self, speed):\n",
    "        self._speed += speed\n",
    "        \n",
    "    def get_speed(self):\n",
    "        return self._speed"
   ]
  },
  {
   "cell_type": "code",
   "execution_count": 16,
   "id": "018b9824",
   "metadata": {},
   "outputs": [],
   "source": [
    "car_object = car(2023, 'red')"
   ]
  },
  {
   "cell_type": "code",
   "execution_count": 17,
   "id": "4ade7379",
   "metadata": {},
   "outputs": [
    {
     "data": {
      "text/plain": [
       "0"
      ]
     },
     "execution_count": 17,
     "metadata": {},
     "output_type": "execute_result"
    }
   ],
   "source": [
    "car_object.get_speed()"
   ]
  },
  {
   "cell_type": "code",
   "execution_count": 18,
   "id": "11ec618b",
   "metadata": {},
   "outputs": [],
   "source": [
    "car_object.speed(80)"
   ]
  },
  {
   "cell_type": "code",
   "execution_count": 19,
   "id": "375ef144",
   "metadata": {},
   "outputs": [
    {
     "data": {
      "text/plain": [
       "80"
      ]
     },
     "execution_count": 19,
     "metadata": {},
     "output_type": "execute_result"
    }
   ],
   "source": [
    "car_object.get_speed()"
   ]
  },
  {
   "cell_type": "markdown",
   "id": "a906ec5c",
   "metadata": {},
   "source": [
    "Abstraction: The \"Car\" class represents an abstraction of a car, focusing on the essential attributes and behaviors. It simplifies the real-world concept of a car by including only the necessary details."
   ]
  },
  {
   "cell_type": "markdown",
   "id": "63988809",
   "metadata": {},
   "source": [
    "Encapsulation: The attributes of the car, such as model, color, and _speed, are encapsulated within the class."
   ]
  },
  {
   "cell_type": "markdown",
   "id": "4fe890ff",
   "metadata": {},
   "source": [
    "### Question no :- 03"
   ]
  },
  {
   "cell_type": "markdown",
   "id": "651322cc",
   "metadata": {},
   "source": [
    "The abc module stands for \"Abstract Base Classes.\" It provides infrastructure for creating abstract classes in Python, which are classes that cannot be instantiated directly but serve as a blueprint for derived classes. Abstract classes can define abstract methods that must be implemented by any concrete (derived) class."
   ]
  },
  {
   "cell_type": "code",
   "execution_count": 21,
   "id": "d228c2c2",
   "metadata": {},
   "outputs": [],
   "source": [
    "# Example\n",
    "\n",
    "class space:\n",
    "    \n",
    "    @abc.abstractmethod\n",
    "    def area(self):\n",
    "        pass\n",
    "    \n",
    "    @abc.abstractmethod\n",
    "    def perimeter(self):\n",
    "        pass"
   ]
  },
  {
   "cell_type": "markdown",
   "id": "4ce1c321",
   "metadata": {},
   "source": [
    "In this example, the Space class is an abstract class that defines the abstract methods area() and perimeter(). Any class that inherits from Space is required to implement these methods. If a subclass fails to implement any of the abstract methods, an error will be raised."
   ]
  },
  {
   "cell_type": "markdown",
   "id": "119e6d6b",
   "metadata": {},
   "source": [
    "### Question no :- 04"
   ]
  },
  {
   "cell_type": "markdown",
   "id": "dc3c2e4f",
   "metadata": {},
   "source": [
    "Data abstraction can be achieved in object-oriented programming through the use of access modifiers, such as public, private, and protected, which control the visibility and accessibility of data members (attributes) and member functions (methods) of a class. The convention for data abstraction is to use a single underscore _ prefix to indicate that an attribute or method is intended to be treated as \"internal\" or \"private\" within the class. "
   ]
  },
  {
   "cell_type": "code",
   "execution_count": 32,
   "id": "b6bfd598",
   "metadata": {},
   "outputs": [],
   "source": [
    "# Example \n",
    "\n",
    "class bank_account:\n",
    "    \n",
    "    def __init__(self, balance, id):\n",
    "        self.__id = id\n",
    "        self.__balance = balance\n",
    "        \n",
    "    def diposit(self, amount):\n",
    "        self.__balance += amount\n",
    "    \n",
    "    def withdraw(self, amount):\n",
    "        if amount <= self.__balance:\n",
    "            self.__balance = self.__balance - amount\n",
    "            return True \n",
    "        else:\n",
    "            return False\n",
    "    \n",
    "    def get_balance(self):\n",
    "        return self.__balance"
   ]
  },
  {
   "cell_type": "code",
   "execution_count": 33,
   "id": "14bd0417",
   "metadata": {},
   "outputs": [],
   "source": [
    "bank_account_ob = bank_account(1000, 12365478)"
   ]
  },
  {
   "cell_type": "code",
   "execution_count": 34,
   "id": "bbf89154",
   "metadata": {},
   "outputs": [
    {
     "data": {
      "text/plain": [
       "1000"
      ]
     },
     "execution_count": 34,
     "metadata": {},
     "output_type": "execute_result"
    }
   ],
   "source": [
    "bank_account_ob.get_balance()"
   ]
  },
  {
   "cell_type": "code",
   "execution_count": 35,
   "id": "885e04c0",
   "metadata": {},
   "outputs": [],
   "source": [
    "bank_account_ob.diposit(5000)"
   ]
  },
  {
   "cell_type": "code",
   "execution_count": 36,
   "id": "15ae5523",
   "metadata": {},
   "outputs": [
    {
     "data": {
      "text/plain": [
       "True"
      ]
     },
     "execution_count": 36,
     "metadata": {},
     "output_type": "execute_result"
    }
   ],
   "source": [
    "bank_account_ob.withdraw(4000)"
   ]
  },
  {
   "cell_type": "code",
   "execution_count": 37,
   "id": "c0d96ee7",
   "metadata": {},
   "outputs": [
    {
     "data": {
      "text/plain": [
       "2000"
      ]
     },
     "execution_count": 37,
     "metadata": {},
     "output_type": "execute_result"
    }
   ],
   "source": [
    "bank_account_ob.get_balance()"
   ]
  },
  {
   "cell_type": "markdown",
   "id": "c885c54a",
   "metadata": {},
   "source": [
    "### Quwstion no :- 05"
   ]
  },
  {
   "cell_type": "markdown",
   "id": "553ff76f",
   "metadata": {},
   "source": [
    "No, we cannot create an instance of an abstract class directly. Abstract classes are meant to serve as blueprints or templates for derived classes. They are incomplete by design, as they define abstract methods that must be implemented by any concrete (derived) class. As such, abstract classes are not intended to be instantiated.Attempting to create an instance of an abstract class directly will result in a TypeError. Python's abc module enforces this behavior and prevents the instantiation of abstract classes."
   ]
  }
 ],
 "metadata": {
  "kernelspec": {
   "display_name": "Python 3 (ipykernel)",
   "language": "python",
   "name": "python3"
  },
  "language_info": {
   "codemirror_mode": {
    "name": "ipython",
    "version": 3
   },
   "file_extension": ".py",
   "mimetype": "text/x-python",
   "name": "python",
   "nbconvert_exporter": "python",
   "pygments_lexer": "ipython3",
   "version": "3.9.13"
  }
 },
 "nbformat": 4,
 "nbformat_minor": 5
}
